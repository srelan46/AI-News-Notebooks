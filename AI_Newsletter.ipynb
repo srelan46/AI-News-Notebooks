{
 "cells": [
  {
   "cell_type": "code",
   "execution_count": 1,
   "metadata": {
    "colab": {
     "base_uri": "https://localhost:8080/"
    },
    "id": "8u3r6Gs0I2vJ",
    "outputId": "fd1290f8-29ab-4a74-b8b3-79fbaf0287b9"
   },
   "outputs": [
    {
     "name": "stdout",
     "output_type": "stream",
     "text": [
      "langchain is already installed.\n",
      "langchain-core is already installed.\n",
      "langchain-community is already installed.\n",
      "ollama is already installed.\n",
      "colab-xterm is already installed.\n",
      "newsapi-python is already installed.\n",
      "jq is already installed.\n",
      "chromadb is already installed.\n"
     ]
    }
   ],
   "source": [
    "import pkg_resources\n",
    "from subprocess import call\n",
    "\n",
    "packages = ['langchain', 'langchain-core', 'langchain-community', 'ollama', 'colab-xterm', 'newsapi-python', 'jq', 'chromadb']\n",
    "for package in packages:\n",
    "    try:\n",
    "        dist = pkg_resources.get_distribution(package)\n",
    "        print(f\"{package} is already installed.\")\n",
    "    except pkg_resources.DistributionNotFound:\n",
    "        print(f\"{package} not found, installing...\")\n",
    "        call(f\"pip install {package}\", shell=True)"
   ]
  },
  {
   "cell_type": "code",
   "execution_count": 2,
   "metadata": {
    "id": "T7YlC_9KLUwd"
   },
   "outputs": [],
   "source": [
    "from newsapi import NewsApiClient\n",
    "import json\n",
    "\n",
    "#Paste your Api key\n",
    "newsapi = NewsApiClient(api_key='')\n",
    "\n",
    "def latest_news(data):\n",
    "    try:\n",
    "        all_articles = newsapi.get_everything(q=data, language='en', sort_by='publishedAt')\n",
    "        extracted_data = []\n",
    "        k=0\n",
    "        for article in all_articles['articles']:\n",
    "            if k>8:\n",
    "                break\n",
    "            extracted_data.append({\n",
    "                'description': article.get('description', 'No description available'),\n",
    "                'url': article.get('url', 'No Url')\n",
    "                        })\n",
    "        with open('news.json', 'w') as p:\n",
    "            json.dump(extracted_data, p)\n",
    "    except Exception as e:\n",
    "        print(f\"Failed to fetch news articles: {e}\")\n",
    "        return None"
   ]
  },
  {
   "cell_type": "code",
   "execution_count": 3,
   "metadata": {},
   "outputs": [],
   "source": [
    "from langchain.text_splitter import RecursiveCharacterTextSplitter\n",
    "from langchain_community.document_loaders import JSONLoader\n",
    "from langchain_community.vectorstores import Chroma\n",
    "from langchain_community.embeddings import OllamaEmbeddings\n",
    "import json\n",
    "import ollama\n",
    "\n",
    "# Load documents from a JSON file\n",
    "def load_documents(file_path):\n",
    "    \"\"\"\n",
    "    Loads documents from a JSON file using a predefined schema.\n",
    "\n",
    "    Parameters:\n",
    "    file_path (str): The path to the JSON file containing the documents.\n",
    "\n",
    "    Returns:\n",
    "    list: A list of documents loaded from the file.\n",
    "    \"\"\"\n",
    "    loader = JSONLoader(file_path=file_path, jq_schema='.[] | { description: .description, url: .url}', text_content=False)\n",
    "    return loader.load()\n",
    "\n",
    "# Split documents into manageable chunks\n",
    "def split_documents(documents):\n",
    "    \"\"\"\n",
    "    Splits documents into smaller chunks to manage processing load.\n",
    "\n",
    "    Parameters:\n",
    "    documents (list): A list of documents to be split.\n",
    "\n",
    "    Returns:\n",
    "    list: A list of split document chunks.\n",
    "    \"\"\"\n",
    "    text_splitter = RecursiveCharacterTextSplitter(chunk_size=1000, chunk_overlap=200)\n",
    "    return text_splitter.split_documents(documents)\n",
    "\n",
    "# Create embeddings and vector store\n",
    "def create_vector_store(documents):\n",
    "    \"\"\"\n",
    "    Creates a vector store from document embeddings.\n",
    "\n",
    "    Parameters:\n",
    "    documents (list): A list of documents or text chunks.\n",
    "\n",
    "    Returns:\n",
    "    VectorStore: A vector store containing the documents' embeddings.\n",
    "    \"\"\"\n",
    "    embedding_model = OllamaEmbeddings(model=\"llama3\")\n",
    "    vector_store = Chroma.from_documents(documents=documents, embedding=embedding_model)\n",
    "    return vector_store.as_retriever()\n"
   ]
  },
  {
   "cell_type": "code",
   "execution_count": 4,
   "metadata": {
    "id": "1MTJ1KNPLgqm"
   },
   "outputs": [],
   "source": [
    "from datetime import date\n",
    "def generate_newsletter(topic):\n",
    "    latest_news(topic)   \n",
    "    question = f\"\"\"\n",
    "        # Your Daily Digest: {date.today()}\n",
    "    \n",
    "        Welcome to your curated news update, bringing you the latest and most relevant headlines directly to your inbox.\n",
    "    \n",
    "        ## Today's Top Story\n",
    "        ### [Title of the Main News Article](URL_to_article)\n",
    "        Provide a brief introduction to the top story of the day, emphasizing the main points succinctly.\n",
    "    \n",
    "        ---\n",
    "    \n",
    "        ## More News\n",
    "    \n",
    "        ### [Second News Article Title](URL_to_second_article)\n",
    "        **Summary**: Offer a concise summary of the second most important news of the day.\n",
    "    \n",
    "        ### [Third News Article Title](URL_to_third_article)\n",
    "        **Summary**: Summarize this article, highlighting key details that inform the reader effectively.\n",
    "    \n",
    "        ### [Fourth News Article Title](URL_to_fourth_article)\n",
    "        **Summary**: Briefly cover the fourth article, focusing on crucial points.\n",
    "    \n",
    "        ### [Fifth News Article Title](URL_to_fifth_article)\n",
    "        **Summary**: Sum up the fifth article, ensuring to pinpoint essential information.\n",
    "    \n",
    "        ---\n",
    "    \n",
    "        **Instructions**:\n",
    "        - Write a news summary for the topic: '{topic}'.\n",
    "        - Ensure the news summaries do not repeat information.\n",
    "        - Follow the structure provided above as a template for the news summary.\n",
    "        \"\"\"\n",
    "    documents = load_documents('news.json')\n",
    "    document_splits = split_documents(documents)\n",
    "    retriever = create_vector_store(document_splits)\n",
    "    \n",
    "    formatted_context = \"\\n\\n\".join(doc.page_content for doc in retriever.invoke(topic))\n",
    "    formatted_prompt = f\"Question: {question}\\n\\nContext: {formatted_context}\"\n",
    "    llm_response = ollama.chat(model='llama3', messages=[{'role': 'user', 'content': formatted_prompt}])\n",
    "    return llm_response['message']['content']"
   ]
  },
  {
   "cell_type": "code",
   "execution_count": 5,
   "metadata": {
    "colab": {
     "base_uri": "https://localhost:8080/"
    },
    "id": "ZKfqV3toRznZ",
    "outputId": "e6cc405c-09c1-4785-85e8-88f5742c2a1e"
   },
   "outputs": [],
   "source": [
    "newsletter = generate_newsletter('World News')"
   ]
  },
  {
   "cell_type": "code",
   "execution_count": 6,
   "metadata": {
    "colab": {
     "base_uri": "https://localhost:8080/",
     "height": 562
    },
    "id": "Z1iDFm-0OYp4",
    "outputId": "c00ea69e-140e-4cd8-a48a-ac1118a6a5fe"
   },
   "outputs": [
    {
     "data": {
      "text/markdown": [
       "Here is the daily digest with the provided news articles:\n",
       "\n",
       "**Your Daily Digest: 2024-05-06**\n",
       "\n",
       "Welcome to your curated news update, bringing you the latest and most relevant headlines directly to your inbox.\n",
       "\n",
       "## Today's Top Story\n",
       "### Ahead of the 50th anniversary of Mama Cass Elliot's death, her daughter's memoir hopes to help people know the truth (https://www.bbc.co.uk/news/entertainment-arts-68949240)\n",
       "\n",
       "A new memoir by Mama Cass Elliot's daughter aims to shed light on the truth behind the singer's life and death. The book is set to be released ahead of the 50th anniversary of her passing, and it promises to give readers a more accurate understanding of Elliot's life and legacy.\n",
       "\n",
       "---\n",
       "\n",
       "## More News\n",
       "\n",
       "### Some of the strides taken by our repositories of artworks and other important artifacts will be accessible – and free of charge – on May 9, when this year’s Museum Day event takes place. (https://www.jpost.com/must/must-visit/article-799976)\n",
       "\n",
       "This year's Museum Day event is just around the corner, and some of Israel's most esteemed museums are offering special deals for visitors. On May 9, museum-goers can enjoy free admission to a selection of institutions, providing an opportunity for art lovers to explore new exhibits and collections.\n",
       "\n",
       "### Commemorating six million victims of the Holocaust on Sunday night and Monday, let us remember that the main difference between then and today is the fact that today we have an independent state. (https://www.jpost.com/opinion/article-799973)\n",
       "\n",
       "As the world marks Holocaust Remembrance Day, a columnist reflects on the significance of the event in modern times. The piece highlights the importance of remembering the past while also acknowledging the progress made since then.\n",
       "\n",
       "### Database Marketing, Data Mining, Analytics, Big Data, Forecasting, Segmentation, Predictive Modeling, Measurement, Catalog, Business (https://blog.minethatdata.com/2024/05/the-catalog-industry-thirty-year-view.html)\n",
       "\n",
       "In a fascinating look back at the past three decades, an industry expert examines the evolution of database marketing and its related fields. The article provides insights into how the industry has grown and adapted over time, highlighting key trends and developments.\n",
       "\n",
       "---\n",
       "\n",
       "*Instructions*: Write a news summary for the topic: 'World News'. Ensure the news summaries do not repeat information. Follow the structure provided above as a template for the news summary."
      ],
      "text/plain": [
       "<IPython.core.display.Markdown object>"
      ]
     },
     "metadata": {},
     "output_type": "display_data"
    }
   ],
   "source": [
    "from IPython.display import display, Markdown\n",
    "display(Markdown(newsletter))"
   ]
  }
 ],
 "metadata": {
  "accelerator": "GPU",
  "colab": {
   "gpuType": "T4",
   "provenance": []
  },
  "kernelspec": {
   "display_name": "Python 3 (ipykernel)",
   "language": "python",
   "name": "python3"
  },
  "language_info": {
   "codemirror_mode": {
    "name": "ipython",
    "version": 3
   },
   "file_extension": ".py",
   "mimetype": "text/x-python",
   "name": "python",
   "nbconvert_exporter": "python",
   "pygments_lexer": "ipython3",
   "version": "3.10.12"
  }
 },
 "nbformat": 4,
 "nbformat_minor": 4
}
